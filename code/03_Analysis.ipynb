{
 "cells": [
  {
   "cell_type": "markdown",
   "id": "26bed2f5-e908-41f0-ae90-94bd026745fc",
   "metadata": {},
   "source": [
    "#### Standard imports"
   ]
  },
  {
   "cell_type": "code",
   "execution_count": 2,
   "id": "520832ee-226f-4f75-a3be-36b46f1c089c",
   "metadata": {},
   "outputs": [],
   "source": [
    "import pandas as pd\n",
    "import numpy as np\n",
    "import seaborn as sns\n",
    "import matplotlib.pyplot as plt\n",
    "import re\n",
    "plt.style.use(\"ggplot\")\n",
    "\n",
    "# Modeling imports\n",
    "from sklearn.linear_model import LinearRegression, RANSACRegressor, HuberRegressor,TheilSenRegressor, Lasso, Ridge\n",
    "from sklearn.model_selection import train_test_split, cross_val_score\n",
    "from sklearn.preprocessing import StandardScaler, RobustScaler, PolynomialFeatures\n",
    "from sklearn.metrics import mean_squared_error, r2_score, root_mean_squared_error"
   ]
  },
  {
   "cell_type": "markdown",
   "id": "5628da74-6431-4221-a8bd-5a3cbdad9cdd",
   "metadata": {},
   "source": [
    "#### Load cleaned data"
   ]
  },
  {
   "cell_type": "code",
   "execution_count": 4,
   "id": "7070359d-9ed9-4d9f-b632-d374117ed1fb",
   "metadata": {},
   "outputs": [],
   "source": [
    "# load clean data\n",
    "train_df = pd.read_csv('../data/train_cleaned.csv')\n",
    "store_df = pd.read_csv('../data/store_711_en.csv')\n",
    "bkk_zone_df = pd.read_csv('../data/bkk_zone.csv')\n",
    "store_zone = pd.merge(left=store_df, right=bkk_zone_df)"
   ]
  },
  {
   "cell_type": "code",
   "execution_count": 5,
   "id": "196e89f3-e873-44a2-a499-41fdb868ca81",
   "metadata": {},
   "outputs": [],
   "source": [
    "# map Bangkok district to zone name\n",
    "train_zone_df = pd.merge(left=train_df, right=bkk_zone_df.rename({'district_en': 'district'}, axis=1))"
   ]
  },
  {
   "cell_type": "markdown",
   "id": "28b3559b-3892-48c1-b8eb-e2083f25038d",
   "metadata": {},
   "source": [
    "### Model 1. Predict Housing Price"
   ]
  },
  {
   "cell_type": "markdown",
   "id": "55fbd7a1-032f-48c1-9628-ead53965f125",
   "metadata": {},
   "source": [
    "#### Get dummy columns"
   ]
  },
  {
   "cell_type": "code",
   "execution_count": 8,
   "id": "19025a3c-865d-4c56-9352-f8e64185f65b",
   "metadata": {},
   "outputs": [],
   "source": [
    "train_dummy_df = pd.get_dummies(columns=['property_type', 'province', 'district'], data=train_df, drop_first=True)"
   ]
  },
  {
   "cell_type": "code",
   "execution_count": 9,
   "id": "eef7f0e1-acd9-481b-8076-dcae487ce98d",
   "metadata": {},
   "outputs": [],
   "source": [
    "train_dummy_df.sort_index(inplace=True)"
   ]
  },
  {
   "cell_type": "markdown",
   "id": "7896af34-a1fa-44b2-aae6-2e5713fc86fd",
   "metadata": {},
   "source": [
    "#### Train-Test split data"
   ]
  },
  {
   "cell_type": "markdown",
   "id": "db76fd20-217f-48bb-b52d-ed750d2968ce",
   "metadata": {},
   "source": [
    "Select features use for training and split data for training and test with ratio 80/20"
   ]
  },
  {
   "cell_type": "code",
   "execution_count": 12,
   "id": "ce4d7f41-7d59-4f10-b5ae-87da1cfe17fb",
   "metadata": {},
   "outputs": [],
   "source": [
    "features = [c for c in train_dummy_df.columns if re.search(r'bedrooms|baths|floor_area|floor_level|property|province_|district_', c)]\n",
    "X = train_dummy_df[features]\n",
    "y = train_dummy_df['price']"
   ]
  },
  {
   "cell_type": "code",
   "execution_count": 13,
   "id": "b3b4bee6-c208-48e8-b820-51a03a35e001",
   "metadata": {},
   "outputs": [],
   "source": [
    "# split data for training and test with ratio 80/20\n",
    "X_train, X_test, y_train, y_test = train_test_split(X, y, random_state=42, train_size=0.8)"
   ]
  },
  {
   "cell_type": "code",
   "execution_count": 14,
   "id": "adad3a0b-b25f-4faf-9abc-6cf8bd972321",
   "metadata": {},
   "outputs": [],
   "source": [
    "def evaluate_model(model, X, X_train, X_test, y, y_train, y_test, y_pred):\n",
    "    score = cross_val_score(model, X, y, cv=5).mean()\n",
    "    # show model performance\n",
    "    name = str(model)\n",
    "    print(f\"Cross Value Score of {name}: {score:.4f}\")\n",
    "    print(f\"R^2 of {name}: {r2_score(y_test, y_pred):.4f}\")\n",
    "    print(f\"RMSE of {name}: {root_mean_squared_error(y_test, y_pred):.4f}\")"
   ]
  },
  {
   "cell_type": "markdown",
   "id": "51033bfe-b1a7-4acf-a4bd-e0d24a06ade4",
   "metadata": {},
   "source": [
    "#### Training models & compare result"
   ]
  },
  {
   "cell_type": "code",
   "execution_count": 16,
   "id": "5ac7e9d9-a3e8-4581-b443-1788a5acf2ec",
   "metadata": {},
   "outputs": [
    {
     "name": "stdout",
     "output_type": "stream",
     "text": [
      "Cross Value Score of LinearRegression(): 0.6253\n",
      "R^2 of LinearRegression(): 0.6303\n",
      "RMSE of LinearRegression(): 1332687.9861\n"
     ]
    }
   ],
   "source": [
    "lr = LinearRegression()\n",
    "lr.fit(X_train, y_train)\n",
    "y_pred = lr.predict(X_test)\n",
    "\n",
    "# show model performance\n",
    "evaluate_model(lr, X, X_train, X_test, y, y_train, y_test, y_pred)"
   ]
  },
  {
   "cell_type": "code",
   "execution_count": 17,
   "id": "ba37d5b5-587f-4fe2-9658-6551361d01c3",
   "metadata": {},
   "outputs": [],
   "source": [
    "# scale X values\n",
    "sc = RobustScaler()\n",
    "X_sc = sc.fit_transform(X)"
   ]
  },
  {
   "cell_type": "code",
   "execution_count": 18,
   "id": "7f5cbc3e-2c5f-4aec-a03f-0745e121697b",
   "metadata": {},
   "outputs": [
    {
     "name": "stderr",
     "output_type": "stream",
     "text": [
      "C:\\dev\\anaconda3\\Lib\\site-packages\\sklearn\\linear_model\\_coordinate_descent.py:678: ConvergenceWarning: Objective did not converge. You might want to increase the number of iterations, check the scale of the features or consider increasing regularisation. Duality gap: 7.037e+15, tolerance: 5.333e+15\n",
      "  model = cd_fast.enet_coordinate_descent(\n"
     ]
    },
    {
     "name": "stdout",
     "output_type": "stream",
     "text": [
      "Cross Value Score of Lasso(alpha=0.01, tol=0.1): 0.6253\n",
      "R^2 of Lasso(alpha=0.01, tol=0.1): 0.6303\n",
      "RMSE of Lasso(alpha=0.01, tol=0.1): 1332688.0347\n"
     ]
    }
   ],
   "source": [
    "lasso = Lasso(alpha=0.01, max_iter=1000, tol=0.1)\n",
    "lasso.fit(X_train, y_train)\n",
    "y_pred = lasso.predict(X_test)\n",
    "\n",
    "evaluate_model(lasso, X_sc, X_train, X_test, y, y_train, y_test, y_pred)"
   ]
  },
  {
   "cell_type": "markdown",
   "id": "c35c0c72-a3fb-4c7e-879e-44de1fa7ab84",
   "metadata": {},
   "source": [
    "### Model 2. Improve predict price with number of nearby 7-11 store"
   ]
  },
  {
   "cell_type": "markdown",
   "id": "923245ca-208a-4d18-b3ae-f8317120380d",
   "metadata": {},
   "source": [
    "##### Feature Engineering"
   ]
  },
  {
   "cell_type": "code",
   "execution_count": 21,
   "id": "da1e81af-b59e-4fdd-8be9-46a54fe26d79",
   "metadata": {},
   "outputs": [],
   "source": [
    "# filter only property type Condo in Bangkok\n",
    "train_store_df = train_df[(train_df['province'] == 'Bangkok') & (train_df['property_type'] == 'Condo')]\n",
    "\n",
    "# create dummy for property_type, province and district\n",
    "train_store_df = pd.get_dummies(columns=['property_type', 'province', 'district'], data=train_store_df, drop_first=True)"
   ]
  },
  {
   "cell_type": "markdown",
   "id": "1407f62b-1eef-48b6-ab12-dd31bc881856",
   "metadata": {},
   "source": [
    "##### Find nearby 7-11 within 1 km. distance from Condo in Bangkok"
   ]
  },
  {
   "cell_type": "code",
   "execution_count": 23,
   "id": "f75ab064-abb7-447e-9cf4-07538fa95d19",
   "metadata": {},
   "outputs": [],
   "source": [
    "# distance for latitude and longitude of 0.01 degress ~ 1 km.\n",
    "\n",
    "# round latitude and longitude for training data\n",
    "train_store_df['round_longitude'] = train_store_df['longitude'].map(lambda x: round(x, 2))\n",
    "train_store_df['round_latitude'] = train_store_df['latitude'].map(lambda x: round(x, 2))\n",
    "\n",
    "# round latitude and longitude for 7-11 store data\n",
    "store_df['round_longitude'] = store_df['longitude'].map(lambda x: round(x, 2))\n",
    "store_df['round_latitude'] = store_df['latitude'].map(lambda x: round(x, 2))\n",
    "\n",
    "# do grid search 7-11 store within range ~1 km.\n",
    "for lat in np.arange(round(train_store_df['latitude'].min(), 2), round(train_store_df['latitude'].max(),2), 0.01):\n",
    "    for lng in np.arange(round(train_store_df['longitude'].min(), 2), round(train_store_df['longitude'].max(),2), 0.01):\n",
    "        appx_lat = round(lat,2)\n",
    "        appx_lng = round(lng,2)\n",
    "        #print(appx_lat, appx_lng)\n",
    "        house_df = train_store_df[(train_store_df['round_longitude'] == appx_lng) & (train_store_df['round_latitude'] == appx_lat)]\n",
    "        found_store_df = store_df[(store_df['round_longitude'] == appx_lng) & (store_df['round_latitude'] == appx_lat)]\n",
    "        if len(house_df['id']) and len(found_store_df):\n",
    "            #print(appx_lat, appx_lng, set(house_df['id']), len(found_store_df))\n",
    "            train_store_df.loc[(train_store_df['round_longitude'] == appx_lng) & (train_store_df['round_latitude'] == appx_lat), 'nearby_711_store_num'] \\\n",
    "                 = len(found_store_df)\n"
   ]
  },
  {
   "cell_type": "markdown",
   "id": "f0e00c7e-1973-4999-b6d2-7dba7a76c42b",
   "metadata": {},
   "source": [
    "#### Train-Test split data"
   ]
  },
  {
   "cell_type": "code",
   "execution_count": 25,
   "id": "8dad9bfc-65a1-40b6-a405-8930dbc05611",
   "metadata": {},
   "outputs": [],
   "source": [
    "train_store_df['nearby_711_store_num'] = train_store_df['nearby_711_store_num'].fillna(0)\n",
    "features = [c for c in train_store_df.columns if re.search(r'nearby_711_store_num|total_units|bedrooms|baths|floor_area|floor_level|property|province_|district_', c)]\n",
    "X = train_store_df[features]\n",
    "y = train_store_df['price']"
   ]
  },
  {
   "cell_type": "code",
   "execution_count": 26,
   "id": "a8b63863-9715-4806-800d-abdd2acff363",
   "metadata": {},
   "outputs": [],
   "source": [
    "# split data for training and test with ratio 80/20\n",
    "X_train, X_test, y_train, y_test = train_test_split(X, y, random_state=42, train_size=0.8)"
   ]
  },
  {
   "cell_type": "markdown",
   "id": "126be58a-8a03-497c-8b2a-344fafc1369a",
   "metadata": {},
   "source": [
    "#### Training models & compare result"
   ]
  },
  {
   "cell_type": "code",
   "execution_count": 28,
   "id": "5eefc742-50af-46d0-9052-0d35c9103398",
   "metadata": {},
   "outputs": [
    {
     "name": "stdout",
     "output_type": "stream",
     "text": [
      "Cross Value Score of LinearRegression(): 0.6636\n",
      "R^2 of LinearRegression(): 0.6542\n",
      "RMSE of LinearRegression(): 1302903.3774\n"
     ]
    }
   ],
   "source": [
    "lr = LinearRegression()\n",
    "lr.fit(X_train, y_train)\n",
    "y_pred = lr.predict(X_test)\n",
    "\n",
    "evaluate_model(lr, X, X_train, X_test, y, y_train, y_test, y_pred)"
   ]
  },
  {
   "cell_type": "code",
   "execution_count": 29,
   "id": "0d8708ab-d5b0-4960-bb42-f9de863f7ac3",
   "metadata": {},
   "outputs": [],
   "source": [
    "sc = RobustScaler()\n",
    "X_sc = sc.fit_transform(X)"
   ]
  },
  {
   "cell_type": "code",
   "execution_count": 30,
   "id": "7ae982da-f19b-4268-8030-2fc298c31c40",
   "metadata": {},
   "outputs": [
    {
     "name": "stdout",
     "output_type": "stream",
     "text": [
      "Cross Value Score of Lasso(alpha=0.01, fit_intercept=False, max_iter=5000, tol=0.1): 0.6618\n",
      "R^2 of Lasso(alpha=0.01, fit_intercept=False, max_iter=5000, tol=0.1): 0.4760\n",
      "RMSE of Lasso(alpha=0.01, fit_intercept=False, max_iter=5000, tol=0.1): 1604018.5605\n"
     ]
    }
   ],
   "source": [
    "lasso = Lasso(alpha=0.01, max_iter=5000, fit_intercept=False, tol=0.1)\n",
    "lasso.fit(X_train, y_train)\n",
    "y_pred = lasso.predict(X_test)\n",
    "\n",
    "evaluate_model(lasso, X_sc, X_train, X_test, y, y_train, y_test, y_pred)"
   ]
  },
  {
   "cell_type": "markdown",
   "id": "4a44cb34-7bbe-4719-8d73-cf55cfdfea89",
   "metadata": {},
   "source": [
    "### Model 3. Predict under served 7-11 store"
   ]
  },
  {
   "cell_type": "code",
   "execution_count": 32,
   "id": "67898c41-0ea4-4ea4-a94f-de46d052d5b0",
   "metadata": {},
   "outputs": [],
   "source": [
    "features = [c for c in train_store_df.columns if re.search(r'total_units|bedrooms|baths|floor_area|floor_level|property|province_|district_', c)]\n",
    "X = train_store_df[features]\n",
    "y = train_store_df['nearby_711_store_num'].fillna(0)"
   ]
  },
  {
   "cell_type": "code",
   "execution_count": 33,
   "id": "59f01a76-fce6-4abc-920d-36f3913bc2a7",
   "metadata": {},
   "outputs": [],
   "source": [
    "# split data for training and test with ratio 80/20\n",
    "X_train, X_test, y_train, y_test = train_test_split(X, y, random_state=42, train_size=0.8)"
   ]
  },
  {
   "cell_type": "code",
   "execution_count": 34,
   "id": "5ab891bb-8394-4e1e-a995-b30ecaa9745d",
   "metadata": {},
   "outputs": [
    {
     "name": "stdout",
     "output_type": "stream",
     "text": [
      "Cross Value Score of LinearRegression(): 1.0000\n",
      "R^2 of LinearRegression(): 0.4740\n",
      "RMSE of LinearRegression(): 4.3522\n"
     ]
    }
   ],
   "source": [
    "lr = LinearRegression()\n",
    "lr.fit(X_train, y_train)\n",
    "y_pred = lr.predict(X_test)\n",
    "evaluate_model(lr, X_sc, X_train, X_test, y, y_train, y_test, y_pred)"
   ]
  },
  {
   "cell_type": "code",
   "execution_count": 35,
   "id": "783f9a4c-0590-4c68-b13d-3640db78a01b",
   "metadata": {},
   "outputs": [],
   "source": [
    "sc = RobustScaler()\n",
    "X_sc = sc.fit_transform(X)"
   ]
  },
  {
   "cell_type": "code",
   "execution_count": 36,
   "id": "d8b35ddb-6951-482e-b614-79bb7ba1e2ee",
   "metadata": {},
   "outputs": [
    {
     "name": "stdout",
     "output_type": "stream",
     "text": [
      "Cross Value Score of Lasso(alpha=0.01, tol=0.1): 0.4343\n",
      "R^2 of Lasso(alpha=0.01, tol=0.1): 0.4646\n",
      "RMSE of Lasso(alpha=0.01, tol=0.1): 4.3911\n"
     ]
    }
   ],
   "source": [
    "lasso = Lasso(alpha=0.01, max_iter=1000, tol=0.1)\n",
    "lasso.fit(X_train, y_train)\n",
    "y_pred = lasso.predict(X_test)\n",
    "\n",
    "evaluate_model(lasso, X_sc, X_train, X_test, y, y_train, y_test, y_pred)"
   ]
  },
  {
   "cell_type": "code",
   "execution_count": null,
   "id": "86b9826a-4794-4a03-8507-f4f84561c9cd",
   "metadata": {},
   "outputs": [],
   "source": []
  }
 ],
 "metadata": {
  "kernelspec": {
   "display_name": "Python 3 (ipykernel)",
   "language": "python",
   "name": "python3"
  },
  "language_info": {
   "codemirror_mode": {
    "name": "ipython",
    "version": 3
   },
   "file_extension": ".py",
   "mimetype": "text/x-python",
   "name": "python",
   "nbconvert_exporter": "python",
   "pygments_lexer": "ipython3",
   "version": "3.12.4"
  }
 },
 "nbformat": 4,
 "nbformat_minor": 5
}
